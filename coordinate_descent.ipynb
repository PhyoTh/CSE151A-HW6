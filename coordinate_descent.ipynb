{
 "cells": [
  {
   "cell_type": "markdown",
   "id": "d8737a9e",
   "metadata": {},
   "source": [
    "# Coordinate Descent for Logistic Regression\n",
    "\n",
    "In this notebook, we will implement a coordinate descent algorithm for logistic regression and compare it with scikit-learn's implementation."
   ]
  },
  {
   "cell_type": "markdown",
   "id": "3a017d8c",
   "metadata": {},
   "source": [
    "## 1. Import Libraries"
   ]
  },
  {
   "cell_type": "code",
   "execution_count": 29,
   "id": "f460cd64",
   "metadata": {},
   "outputs": [],
   "source": [
    "import numpy as np\n",
    "import pandas as pd\n",
    "import matplotlib.pyplot as plt\n",
    "from sklearn.preprocessing import StandardScaler\n",
    "from sklearn.model_selection import train_test_split\n",
    "from sklearn.linear_model import LogisticRegression\n",
    "from sklearn.metrics import accuracy_score\n",
    "\n",
    "# For prettier plots\n",
    "import matplotlib as mpl\n",
    "mpl.rcParams['figure.figsize'] = (12, 8)\n",
    "plt.style.use('ggplot')"
   ]
  },
  {
   "cell_type": "markdown",
   "id": "f30c749b",
   "metadata": {},
   "source": [
    "## 2. Load and Preprocess Data"
   ]
  },
  {
   "cell_type": "code",
   "execution_count": 30,
   "id": "a29ad4b7",
   "metadata": {},
   "outputs": [
    {
     "data": {
      "text/html": [
       "<div>\n",
       "<style scoped>\n",
       "    .dataframe tbody tr th:only-of-type {\n",
       "        vertical-align: middle;\n",
       "    }\n",
       "\n",
       "    .dataframe tbody tr th {\n",
       "        vertical-align: top;\n",
       "    }\n",
       "\n",
       "    .dataframe thead th {\n",
       "        text-align: right;\n",
       "    }\n",
       "</style>\n",
       "<table border=\"1\" class=\"dataframe\">\n",
       "  <thead>\n",
       "    <tr style=\"text-align: right;\">\n",
       "      <th></th>\n",
       "      <th>age</th>\n",
       "      <th>sex</th>\n",
       "      <th>cp</th>\n",
       "      <th>trestbps</th>\n",
       "      <th>chol</th>\n",
       "      <th>fbs</th>\n",
       "      <th>restecg</th>\n",
       "      <th>thalach</th>\n",
       "      <th>exang</th>\n",
       "      <th>oldpeak</th>\n",
       "      <th>slope</th>\n",
       "      <th>ca</th>\n",
       "      <th>thal</th>\n",
       "      <th>target</th>\n",
       "    </tr>\n",
       "  </thead>\n",
       "  <tbody>\n",
       "    <tr>\n",
       "      <th>0</th>\n",
       "      <td>63</td>\n",
       "      <td>1</td>\n",
       "      <td>3</td>\n",
       "      <td>145</td>\n",
       "      <td>233</td>\n",
       "      <td>1</td>\n",
       "      <td>0</td>\n",
       "      <td>150</td>\n",
       "      <td>0</td>\n",
       "      <td>2.3</td>\n",
       "      <td>0</td>\n",
       "      <td>0</td>\n",
       "      <td>1</td>\n",
       "      <td>1</td>\n",
       "    </tr>\n",
       "    <tr>\n",
       "      <th>1</th>\n",
       "      <td>37</td>\n",
       "      <td>1</td>\n",
       "      <td>2</td>\n",
       "      <td>130</td>\n",
       "      <td>250</td>\n",
       "      <td>0</td>\n",
       "      <td>1</td>\n",
       "      <td>187</td>\n",
       "      <td>0</td>\n",
       "      <td>3.5</td>\n",
       "      <td>0</td>\n",
       "      <td>0</td>\n",
       "      <td>2</td>\n",
       "      <td>1</td>\n",
       "    </tr>\n",
       "    <tr>\n",
       "      <th>2</th>\n",
       "      <td>41</td>\n",
       "      <td>0</td>\n",
       "      <td>1</td>\n",
       "      <td>130</td>\n",
       "      <td>204</td>\n",
       "      <td>0</td>\n",
       "      <td>0</td>\n",
       "      <td>172</td>\n",
       "      <td>0</td>\n",
       "      <td>1.4</td>\n",
       "      <td>2</td>\n",
       "      <td>0</td>\n",
       "      <td>2</td>\n",
       "      <td>1</td>\n",
       "    </tr>\n",
       "    <tr>\n",
       "      <th>3</th>\n",
       "      <td>56</td>\n",
       "      <td>1</td>\n",
       "      <td>1</td>\n",
       "      <td>120</td>\n",
       "      <td>236</td>\n",
       "      <td>0</td>\n",
       "      <td>1</td>\n",
       "      <td>178</td>\n",
       "      <td>0</td>\n",
       "      <td>0.8</td>\n",
       "      <td>2</td>\n",
       "      <td>0</td>\n",
       "      <td>2</td>\n",
       "      <td>1</td>\n",
       "    </tr>\n",
       "    <tr>\n",
       "      <th>4</th>\n",
       "      <td>57</td>\n",
       "      <td>0</td>\n",
       "      <td>0</td>\n",
       "      <td>120</td>\n",
       "      <td>354</td>\n",
       "      <td>0</td>\n",
       "      <td>1</td>\n",
       "      <td>163</td>\n",
       "      <td>1</td>\n",
       "      <td>0.6</td>\n",
       "      <td>2</td>\n",
       "      <td>0</td>\n",
       "      <td>2</td>\n",
       "      <td>1</td>\n",
       "    </tr>\n",
       "  </tbody>\n",
       "</table>\n",
       "</div>"
      ],
      "text/plain": [
       "   age  sex  cp  trestbps  chol  fbs  restecg  thalach  exang  oldpeak  slope  \\\n",
       "0   63    1   3       145   233    1        0      150      0      2.3      0   \n",
       "1   37    1   2       130   250    0        1      187      0      3.5      0   \n",
       "2   41    0   1       130   204    0        0      172      0      1.4      2   \n",
       "3   56    1   1       120   236    0        1      178      0      0.8      2   \n",
       "4   57    0   0       120   354    0        1      163      1      0.6      2   \n",
       "\n",
       "   ca  thal  target  \n",
       "0   0     1       1  \n",
       "1   0     2       1  \n",
       "2   0     2       1  \n",
       "3   0     2       1  \n",
       "4   0     2       1  "
      ]
     },
     "execution_count": 30,
     "metadata": {},
     "output_type": "execute_result"
    }
   ],
   "source": [
    "# Load the heart disease dataset\n",
    "data = pd.read_csv('heart.csv')\n",
    "data.head()"
   ]
  },
  {
   "cell_type": "code",
   "execution_count": 31,
   "id": "cd017dca",
   "metadata": {},
   "outputs": [
    {
     "name": "stdout",
     "output_type": "stream",
     "text": [
      "Data shape: X_train: (242, 14), y_train: (242,), X_test: (61, 14), y_test: (61,)\n"
     ]
    }
   ],
   "source": [
    "# Split features and target\n",
    "X = data.drop('target', axis=1).values\n",
    "y = data['target'].values\n",
    "\n",
    "# Split data into training and testing sets\n",
    "X_train, X_test, y_train, y_test = train_test_split(X, y, test_size=0.2, random_state=42)\n",
    "\n",
    "# Standardize features\n",
    "scaler = StandardScaler()\n",
    "X_train = scaler.fit_transform(X_train)\n",
    "X_test = scaler.transform(X_test)\n",
    "\n",
    "# Add bias term\n",
    "X_train = np.hstack([np.ones((X_train.shape[0], 1)), X_train])\n",
    "X_test = np.hstack([np.ones((X_test.shape[0], 1)), X_test])\n",
    "\n",
    "print(f\"Data shape: X_train: {X_train.shape}, y_train: {y_train.shape}, X_test: {X_test.shape}, y_test: {y_test.shape}\")"
   ]
  },
  {
   "cell_type": "markdown",
   "id": "d5ae1006",
   "metadata": {},
   "source": [
    "## 3. Logistic Regression with Scikit-Learn (Baseline)"
   ]
  },
  {
   "cell_type": "code",
   "execution_count": 32,
   "id": "8ccf1ed5",
   "metadata": {},
   "outputs": [
    {
     "name": "stdout",
     "output_type": "stream",
     "text": [
      "Weights from sklearn: [ 0.17378124 -0.08056595 -0.84545076  0.87768018 -0.29644677 -0.19860356\n",
      "  0.09836266  0.31313135  0.41719769 -0.53770501 -0.72507175  0.46333137\n",
      " -0.84755578 -0.59674932]\n"
     ]
    }
   ],
   "source": [
    "# Train a logistic regression model using scikit-learn\n",
    "# Use a very small regularization parameter to effectively make it unregularized\n",
    "sk_model = LogisticRegression(C=1e6, penalty='l2', solver='lbfgs', max_iter=1000, tol=1e-10)\n",
    "sk_model.fit(X_train[:, 1:], y_train)  # Skip the bias term for sklearn\n",
    "\n",
    "# Get weights from the model (need to add the intercept separately)\n",
    "w_sklearn = np.hstack([sk_model.intercept_, sk_model.coef_[0]])\n",
    "print(\"Weights from sklearn:\", w_sklearn)"
   ]
  },
  {
   "cell_type": "code",
   "execution_count": 33,
   "id": "69f735aa",
   "metadata": {},
   "outputs": [
    {
     "name": "stdout",
     "output_type": "stream",
     "text": [
      "Optimal loss value (L*) from sklearn: 0.348242\n"
     ]
    }
   ],
   "source": [
    "# Define the logistic loss function\n",
    "def logistic_loss(X, y, w):\n",
    "    \"\"\"Compute the logistic loss (negative log likelihood)\"\"\"\n",
    "    z = X @ w\n",
    "    # Use the log-sum-exp trick for numerical stability\n",
    "    loss = np.mean(np.log(1 + np.exp(-y * z)))\n",
    "    return loss\n",
    "\n",
    "# Calculate the loss with sklearn weights\n",
    "L_star = logistic_loss(X_train, 2*y_train-1, w_sklearn)  # Convert y to {-1, 1}\n",
    "print(f\"Optimal loss value (L*) from sklearn: {L_star:.6f}\")"
   ]
  },
  {
   "cell_type": "markdown",
   "id": "c4cf1c66",
   "metadata": {},
   "source": [
    "## 4. Implementing Coordinate Descent for Logistic Regression\n",
    "\n",
    "### (a) High-Level Description of Our Coordinate Descent Method\n",
    "\n",
    "**Coordinate Selection Strategy (i):**\n",
    "- We'll use a combination of random selection and cyclic selection. In each iteration, we'll either:\n",
    "  - Pick a coordinate randomly with probability 0.7\n",
    "  - Cycle through all coordinates systematically with probability 0.3\n",
    "- This hybrid approach helps avoid getting stuck in poor local minima.\n",
    "\n",
    "**Update Strategy (ii):**\n",
    "- For each chosen coordinate, we'll perform a line search to find the best value that minimizes the loss.\n",
    "- We use learning rates that decrease with time according to the formula: learning_rate = constant / sqrt(time)\n",
    "- This decreasing learning rate helps with convergence as we get closer to the optimal solution.\n",
    "- For each coordinate update, we try multiple step sizes and choose the one that gives the best improvement.\n",
    "\n",
    "**Stopping Criterion:**\n",
    "- Instead of running for a fixed number of iterations, we'll stop when the difference between consecutive loss values (L(w_t+1) - L(w_t)) becomes very small.\n",
    "- This ensures we stop when we've reached an adequately optimal solution without unnecessary additional iterations.\n",
    "\n",
    "**Differentiability Requirements:**\n",
    "- Our implementation requires the loss function to be differentiable with respect to each coordinate.\n",
    "- For the grid search variant, differentiability is not strictly required, but the loss function should be continuous."
   ]
  },
  {
   "cell_type": "code",
   "execution_count": 34,
   "id": "a0b017d9",
   "metadata": {},
   "outputs": [],
   "source": [
    "# Helper functions for coordinate descent\n",
    "\n",
    "def sigmoid(z):\n",
    "    \"\"\"Sigmoid function with stability safeguards\"\"\"\n",
    "    return 1.0 / (1.0 + np.exp(-np.clip(z, -30, 30)))\n",
    "\n",
    "def compute_gradient_i(X, y, w, i):\n",
    "    \"\"\"Compute the gradient of the loss function with respect to coordinate i\"\"\"\n",
    "    z = X @ w\n",
    "    y_pred = sigmoid(z)\n",
    "    return np.mean(X[:, i] * (y_pred - (y+1)/2))  # y is converted from {0,1} to {-1,1}\n",
    "\n",
    "def line_search(X, y, w, i, base_learning_rates, iteration):\n",
    "    \"\"\"Perform a line search with learning rates that decrease over time\"\"\"\n",
    "    best_loss = float('inf')\n",
    "    best_step = 0\n",
    "    \n",
    "    # Get the gradient for this coordinate\n",
    "    grad_i = compute_gradient_i(X, y, w, i)\n",
    "    \n",
    "    # Scale learning rates based on iteration number: constant / sqrt(time)\n",
    "    scaled_rates = base_learning_rates / np.sqrt(max(1, iteration))\n",
    "    \n",
    "    # Try different step sizes\n",
    "    for step in scaled_rates * (-1 if grad_i > 0 else 1):  # Move in the opposite direction of the gradient\n",
    "        w_new = w.copy()\n",
    "        w_new[i] += step\n",
    "        loss = logistic_loss(X, y, w_new)\n",
    "        \n",
    "        if loss < best_loss:\n",
    "            best_loss = loss\n",
    "            best_step = step\n",
    "    \n",
    "    return best_step\n",
    "\n",
    "def coordinate_descent(X, y, max_iter=5000, tol=1e-8):\n",
    "    \"\"\"Coordinate descent for logistic regression\"\"\"\n",
    "    n_samples, n_features = X.shape\n",
    "    \n",
    "    # Convert y from {0,1} to {-1,1} for easier computation\n",
    "    y = 2*y - 1\n",
    "    \n",
    "    # Initialize weights to zeros\n",
    "    w = np.zeros(n_features)\n",
    "    \n",
    "    # Initialize the loss history\n",
    "    loss_history = []\n",
    "    current_loss = logistic_loss(X, y, w)\n",
    "    loss_history.append(current_loss)\n",
    "    \n",
    "    # Set up base learning rates\n",
    "    base_learning_rates = np.array([0.01, 0.05, 0.1, 0.5, 1.0, 2.0])\n",
    "    \n",
    "    # Main loop\n",
    "    for iter_num in range(max_iter):\n",
    "        # Store the previous loss to check for convergence\n",
    "        prev_loss = current_loss\n",
    "        \n",
    "        # Coordinate selection strategy\n",
    "        if np.random.rand() < 0.7:  # 70% chance of random selection\n",
    "            # Randomly select a coordinate\n",
    "            i = np.random.randint(0, n_features)\n",
    "            \n",
    "            # Find the best step size for this coordinate using iteration-dependent learning rates\n",
    "            step = line_search(X, y, w, i, base_learning_rates, iter_num + 1)\n",
    "            \n",
    "            # Update the weight\n",
    "            w[i] += step\n",
    "        else:  # 30% chance of cyclic selection\n",
    "            # Cycle through all coordinates\n",
    "            for i in range(n_features):\n",
    "                step = line_search(X, y, w, i, base_learning_rates, iter_num + 1)\n",
    "                w[i] += step\n",
    "        \n",
    "        # Compute the new loss\n",
    "        current_loss = logistic_loss(X, y, w)\n",
    "        loss_history.append(current_loss)\n",
    "        \n",
    "        # Print progress occasionally\n",
    "        if iter_num % 50 == 0:\n",
    "            print(f\"Iteration {iter_num}, Loss: {current_loss:.6f}\")\n",
    "        \n",
    "        # Check for convergence: stop when the difference between consecutive losses is very small\n",
    "        loss_diff = abs(prev_loss - current_loss)\n",
    "        if loss_diff < tol:\n",
    "            print(f\"Converged after {iter_num} iterations with loss difference {loss_diff:.8f} < {tol}\")\n",
    "            break\n",
    "    \n",
    "    return w, loss_history"
   ]
  },
  {
   "cell_type": "markdown",
   "id": "4670e4bc",
   "metadata": {},
   "source": [
    "## 5. Running Coordinate Descent"
   ]
  },
  {
   "cell_type": "code",
   "execution_count": 35,
   "id": "4c85c171",
   "metadata": {},
   "outputs": [
    {
     "name": "stdout",
     "output_type": "stream",
     "text": [
      "Iteration 0, Loss: 0.648278\n",
      "Converged after 42 iterations with loss difference 0.00000000 < 1e-08\n"
     ]
    }
   ],
   "source": [
    "# Run the coordinate descent algorithm\n",
    "w_cd, loss_history = coordinate_descent(X_train, y_train, max_iter=5000, tol=1e-8)"
   ]
  },
  {
   "cell_type": "code",
   "execution_count": 36,
   "id": "401e41c2",
   "metadata": {},
   "outputs": [
    {
     "name": "stdout",
     "output_type": "stream",
     "text": [
      "Coordinate Descent weights: [ 0.17235462 -0.07947807 -0.84415058  0.87890825 -0.29712667 -0.19819802\n",
      "  0.09878094  0.31414311  0.41900984 -0.53756088 -0.72561203  0.46442047\n",
      " -0.84805063 -0.59595019]\n",
      "Sklearn weights: [ 0.17378124 -0.08056595 -0.84545076  0.87768018 -0.29644677 -0.19860356\n",
      "  0.09836266  0.31313135  0.41719769 -0.53770501 -0.72507175  0.46333137\n",
      " -0.84755578 -0.59674932]\n"
     ]
    }
   ],
   "source": [
    "# Compare the weights obtained from coordinate descent vs sklearn\n",
    "print(\"Coordinate Descent weights:\", w_cd)\n",
    "print(\"Sklearn weights:\", w_sklearn)"
   ]
  },
  {
   "cell_type": "code",
   "execution_count": 37,
   "id": "9e5793b2",
   "metadata": {},
   "outputs": [
    {
     "name": "stdout",
     "output_type": "stream",
     "text": [
      "Final loss from coordinate descent: 0.348242\n",
      "Optimal loss from sklearn (L*): 0.348242\n"
     ]
    }
   ],
   "source": [
    "# Calculate the final loss with coordinate descent weights\n",
    "final_loss_cd = loss_history[-1]\n",
    "print(f\"Final loss from coordinate descent: {final_loss_cd:.6f}\")\n",
    "print(f\"Optimal loss from sklearn (L*): {L_star:.6f}\")"
   ]
  },
  {
   "cell_type": "markdown",
   "id": "13d7c074",
   "metadata": {},
   "source": [
    "## 6. Visualizing the Results"
   ]
  },
  {
   "cell_type": "code",
   "execution_count": null,
   "id": "764fd61d",
   "metadata": {},
   "outputs": [
    {
     "data": {
      "image/png": "[encoded data removed]",
      "text/plain": [
       "<Figure size 1200x600 with 1 Axes>"
      ]
     },
     "metadata": {},
     "output_type": "display_data"
    },
    {
     "data": {
      "image/png": "[encoded data removed]",
      "text/plain": [
       "<Figure size 1200x600 with 1 Axes>"
      ]
     },
     "metadata": {},
     "output_type": "display_data"
    }
   ],
   "source": [
    "# Plot the loss history\n",
    "plt.figure(figsize=(12, 6))\n",
    "plt.plot(loss_history, 'b-', linewidth=2, label=f'Coordinate Descent Loss')\n",
    "plt.axhline(y=L_star, color='r', linestyle='--', label=f'Sklearn Loss (L*): {L_star:.6f}')\n",
    "plt.axhline(y=final_loss_cd, color='g', linestyle='-.', label=f'Final CD Loss: {final_loss_cd:.6f}')\n",
    "plt.xlabel('Iterations', fontsize=14)\n",
    "plt.ylabel('Loss', fontsize=14)\n",
    "plt.title('Coordinate Descent Loss vs. Iterations', fontsize=16)\n",
    "plt.legend(fontsize=12)\n",
    "plt.grid(True)\n",
    "\n",
    "# Add a zoomed-in plot to the later iterations\n",
    "plt.figure(figsize=(12, 6))\n",
    "plt.plot(loss_history[-200:], 'b-', linewidth=2, label=f'Coordinate Descent Loss')\n",
    "plt.axhline(y=L_star, color='r', linestyle='--', label=f'Sklearn Loss (L*): {L_star:.6f}')\n",
    "plt.axhline(y=final_loss_cd, color='g', linestyle='-.', label=f'Final CD Loss: {final_loss_cd:.6f}')\n",
    "plt.xlabel('Last 200 Iterations', fontsize=14)\n",
    "plt.ylabel('Loss', fontsize=14)\n",
    "plt.title('Coordinate Descent Loss (Last 200 Iterations)', fontsize=16)\n",
    "plt.legend(fontsize=12)\n",
    "plt.grid(True)"
   ]
  },
  {
   "cell_type": "markdown",
   "id": "707fe21d",
   "metadata": {},
   "source": [
    "## 7. Evaluate and Compare Performance"
   ]
  },
  {
   "cell_type": "code",
   "execution_count": 39,
   "id": "a43eb1b6",
   "metadata": {},
   "outputs": [
    {
     "name": "stdout",
     "output_type": "stream",
     "text": [
      "Coordinate Descent Test Accuracy: 0.8525\n",
      "Sklearn Test Accuracy: 0.8525\n"
     ]
    }
   ],
   "source": [
    "# Make predictions using both methods\n",
    "\n",
    "# For coordinate descent\n",
    "y_pred_cd = (sigmoid(X_test @ w_cd) > 0.5).astype(int)\n",
    "\n",
    "# For sklearn\n",
    "y_pred_sk = sk_model.predict(X_test[:, 1:])  # Skip the bias term for sklearn\n",
    "\n",
    "# Calculate and print accuracies\n",
    "acc_cd = accuracy_score(y_test, y_pred_cd)\n",
    "acc_sk = accuracy_score(y_test, y_pred_sk)\n",
    "\n",
    "print(f\"Coordinate Descent Test Accuracy: {acc_cd:.4f}\")\n",
    "print(f\"Sklearn Test Accuracy: {acc_sk:.4f}\")"
   ]
  },
  {
   "cell_type": "markdown",
   "id": "7f1101da",
   "metadata": {},
   "source": [
    "## 8. Conclusion\n",
    "\n",
    "### Summary of the Coordinate Descent Method\n",
    "\n",
    "Our coordinate descent implementation for logistic regression alternates between randomly selecting coordinates and cyclically updating all coordinates. For each selected coordinate, we perform a simple line search to find the optimal step size that minimizes the loss function.\n",
    "\n",
    "### Key Observations\n",
    "\n",
    "1. **Convergence**: The loss function gradually decreases and asymptotically approaches the optimal loss value L* obtained from scikit-learn's implementation.\n",
    "\n",
    "2. **Performance**: The coordinate descent method achieves comparable accuracy to scikit-learn's logistic regression implementation, demonstrating its effectiveness.\n",
    "\n",
    "3. **Pros and Cons**:\n",
    "   - **Pros**: Simple to implement, works well for sparse data, doesn't require computing full gradients\n",
    "   - **Cons**: Can be slower to converge than full gradient methods, especially for non-separable problems\n",
    "\n",
    "4. **Real-world Applicability**: Coordinate descent is particularly useful when the dimensionality of the problem is high and computing full gradients is expensive, or when the problem has a separable structure.\n",
    "\n",
    "Our hybrid approach of random and cyclic coordinate selection helps avoid getting stuck in poor local minima while ensuring that all coordinates are updated regularly. The line search ensures that each update results in meaningful progress toward the optimal solution."
   ]
  }
 ],
 "metadata": {
  "kernelspec": {
   "display_name": "condaEnv",
   "language": "python",
   "name": "python3"
  },
  "language_info": {
   "codemirror_mode": {
    "name": "ipython",
    "version": 3
   },
   "file_extension": ".py",
   "mimetype": "text/x-python",
   "name": "python",
   "nbconvert_exporter": "python",
   "pygments_lexer": "ipython3",
   "version": "3.9.21"
  }
 },
 "nbformat": 4,
 "nbformat_minor": 5
}
